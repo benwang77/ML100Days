{
 "cells": [
  {
   "cell_type": "markdown",
   "metadata": {
    "id": "P6xk2_jLsvFF"
   },
   "source": [
    "# [作業目標]\n",
    "\n",
    "1. [簡答題] 請問 type(...) 跟 a.dtype 這兩個語法有什麼不同？\n",
    "\n",
    "```\n",
    "print('type(a): ', type(a))\n",
    "print('a.dtype: ', a.dtype)\n",
    "```\n",
    "\n",
    "2. 請撰寫一個判斷 a 的元素是否等於指定資料型態的函式\n",
    "\n",
    "3. [簡答題] 承上題，請判斷下列三種寫法為何不正確？\n",
    "\n",
    "```\n",
    "def is_dtype(a, t):\n",
    "    return a.dtype is t\n",
    "\n",
    "def is_dtype(a, t):\n",
    "    return type(a) == np.dtype(t)\n",
    "\n",
    "def is_dtype(a, t):\n",
    "    return type(a) is np.dtype(t)\n",
    "```"
   ]
  },
  {
   "cell_type": "markdown",
   "metadata": {
    "id": "uXGll28asvFS"
   },
   "source": [
    "# 作業 "
   ]
  },
  {
   "cell_type": "markdown",
   "metadata": {
    "id": "qmOwRRtHNgfI"
   },
   "source": [
    "### 1. [簡答題] 請問 type(...) 跟 a.dtype 這兩個語法有什麼不同？\n",
    "\n",
    "```\n",
    "print('type(a): ', type(a))\n",
    "print('a.dtype: ', a.dtype)\n",
    "```\n"
   ]
  },
  {
   "cell_type": "code",
   "execution_count": 4,
   "metadata": {
    "id": "5QrYoyNWsvFS",
    "outputId": "8977bda1-0e79-4faa-8370-76a2b0767482"
   },
   "outputs": [
    {
     "name": "stdout",
     "output_type": "stream",
     "text": [
      "type(a):  <class 'numpy.ndarray'>\n",
      "a.dtype:  int32\n"
     ]
    }
   ],
   "source": [
    "print('type(a): ', type(a))\n",
    "print('a.dtype: ', a.dtype)"
   ]
  },
  {
   "cell_type": "code",
   "execution_count": null,
   "metadata": {},
   "outputs": [],
   "source": [
    "'''\n",
    "上面的寫法所跑出來的結果是呈現a的資料型態；而下面的寫法所呈現的結果是a陣列中，元素的資料型態。\n",
    "'''"
   ]
  },
  {
   "cell_type": "markdown",
   "metadata": {
    "id": "hgsGyqXHNgfK"
   },
   "source": [
    "### 2. 請撰寫一個判斷 a 的元素是否等於指定資料型態的函式，並且通過測試。\n",
    "\n"
   ]
  },
  {
   "cell_type": "code",
   "execution_count": 5,
   "metadata": {
    "id": "e1gVI0tvsvFY"
   },
   "outputs": [
    {
     "data": {
      "text/plain": [
       "'\\nimport numpy as np\\n'"
      ]
     },
     "execution_count": 5,
     "metadata": {},
     "output_type": "execute_result"
    }
   ],
   "source": [
    "# 記得先 Import 正確的套件\n",
    "\n",
    "'''\n",
    "import numpy as np\n",
    "'''"
   ]
  },
  {
   "cell_type": "code",
   "execution_count": null,
   "metadata": {
    "id": "ew2BtKF2NgfL"
   },
   "outputs": [],
   "source": [
    "def is_dtype(a, t):\n",
    "    '''\n",
    "    return a.dtype == t\n",
    "    '''"
   ]
  },
  {
   "cell_type": "code",
   "execution_count": 18,
   "metadata": {
    "id": "sGs__HXnNgfL",
    "outputId": "6230ab6b-ea54-4102-ebae-5202b9f4826d"
   },
   "outputs": [
    {
     "name": "stdout",
     "output_type": "stream",
     "text": [
      "[6 5 1 3 7 0]\n",
      "False\n",
      "True\n",
      "True\n"
     ]
    }
   ],
   "source": [
    "a = np.random.randint(10, size=6) \n",
    "print(a)\n",
    "# 測試一\n",
    "print(is_dtype(a, \"str\")) # True\n",
    "\n",
    "# 測試二\n",
    "print(is_dtype(a, np.int)) # True\n",
    "\n",
    "# 測試三\n",
    "print(is_dtype(a, np.dtype('int'))) # True"
   ]
  },
  {
   "cell_type": "markdown",
   "metadata": {
    "id": "iM6o3Ra1NgfM"
   },
   "source": [
    "### 3. [簡答題] 承上題，請判斷下列三種寫法為何不正確？\n",
    "\n",
    "```\n",
    "def is_dtype(a, t):\n",
    "    return a.dtype is t\n",
    "\n",
    "def is_dtype(a, t):\n",
    "    return type(a) == np.dtype(t)\n",
    "\n",
    "def is_dtype(a, t):\n",
    "    return type(a) is np.dtype(t)\n",
    "```"
   ]
  },
  {
   "cell_type": "code",
   "execution_count": null,
   "metadata": {
    "id": "INXaaXTuNgfM"
   },
   "outputs": [],
   "source": [
    "'''\n",
    "第一個寫法:is 後面只接受物件的形式。\n",
    "第二個寫法:type所呈現並分陣列中元素的資料型態，無法跟後面的numpy資料型態的物件形式進行比較。\n",
    "第三個寫法:原因與第二個寫法錯誤的原因相同。\n",
    "'''"
   ]
  }
 ],
 "metadata": {
  "colab": {
   "name": "02 Homework.ipynb",
   "provenance": []
  },
  "kernelspec": {
   "display_name": "Python 3",
   "language": "python",
   "name": "python3"
  },
  "language_info": {
   "codemirror_mode": {
    "name": "ipython",
    "version": 3
   },
   "file_extension": ".py",
   "mimetype": "text/x-python",
   "name": "python",
   "nbconvert_exporter": "python",
   "pygments_lexer": "ipython3",
   "version": "3.8.5"
  }
 },
 "nbformat": 4,
 "nbformat_minor": 1
}
